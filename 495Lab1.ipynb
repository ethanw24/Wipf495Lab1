{
 "cells": [
  {
   "cell_type": "code",
   "execution_count": 8,
   "metadata": {},
   "outputs": [],
   "source": [
    "import matplotlib.pyplot as plt\n",
    "import numpy as np\n",
    "from scipy.stats import norm\n",
    "\n",
    "import nengo\n",
    "from nengo.utils.matplotlib import rasterplot\n",
    "from nengo.dists import Uniform\n",
    "from nengo.processes import WhiteSignal\n",
    "from nengo.processes import Piecewise"
   ]
  },
  {
   "cell_type": "code",
   "execution_count": 86,
   "metadata": {},
   "outputs": [
    {
     "data": {
      "application/vdom.v1+json": {
       "attributes": {},
       "tagName": "div"
      },
      "text/html": [
       "\n",
       "                <script>\n",
       "                    if (Jupyter.version.split(\".\")[0] < 5) {\n",
       "                        var pb = document.getElementById(\"a0bf4d35-30a6-4acc-bc0a-d17ca9f4e152\");\n",
       "                        var text = document.createTextNode(\n",
       "                            \"HMTL progress bar requires Jupyter Notebook >= \" +\n",
       "                            \"5.0 or Jupyter Lab. Alternatively, you can use \" +\n",
       "                            \"TerminalProgressBar().\");\n",
       "                        pb.parentNode.insertBefore(text, pb);\n",
       "                    }\n",
       "                </script>\n",
       "                <div id=\"a0bf4d35-30a6-4acc-bc0a-d17ca9f4e152\" style=\"\n",
       "                    width: 100%;\n",
       "                    border: 1px solid #cfcfcf;\n",
       "                    border-radius: 4px;\n",
       "                    text-align: center;\n",
       "                    position: relative;\">\n",
       "                  <div class=\"pb-text\" style=\"\n",
       "                      position: absolute;\n",
       "                      width: 100%;\">\n",
       "                    0%\n",
       "                  </div>\n",
       "                  <div class=\"pb-fill\" style=\"\n",
       "                      background-color: #bdd2e6;\n",
       "                      width: 0%;\">\n",
       "                    <style type=\"text/css\" scoped=\"scoped\">\n",
       "                        @keyframes pb-fill-anim {\n",
       "                            0% { background-position: 0 0; }\n",
       "                            100% { background-position: 100px 0; }\n",
       "                        }\n",
       "                    </style>\n",
       "                    &nbsp;\n",
       "                  </div>\n",
       "                </div>"
      ],
      "text/plain": [
       "HtmlProgressBar cannot be displayed. Please use the TerminalProgressBar. It can be enabled with `nengo.rc['progress']['progress_bar'] = 'nengo.utils.progress.TerminalProgressBar'`."
      ]
     },
     "metadata": {},
     "output_type": "display_data"
    },
    {
     "data": {
      "application/vdom.v1+json": {
       "attributes": {
        "id": "ca1860ea-6982-489e-85ec-0e7d09d6e91e",
        "style": {
         "border": "1px solid #cfcfcf",
         "borderRadius": "4px",
         "boxSizing": "border-box",
         "position": "relative",
         "textAlign": "center",
         "width": "100%"
        }
       },
       "children": [
        {
         "attributes": {
          "class": "pb-text",
          "style": {
           "position": "absolute",
           "width": "100%"
          }
         },
         "children": [
          "Build finished in 0:00:01."
         ],
         "tagName": "div"
        },
        {
         "attributes": {
          "class": "pb-fill",
          "style": {
           "animation": "none",
           "backgroundColor": "#bdd2e6",
           "backgroundImage": "none",
           "backgroundSize": "100px 100%",
           "width": "100%"
          }
         },
         "children": [
          {
           "attributes": {
            "scoped": "scoped",
            "type": "text/css"
           },
           "children": [
            "\n                        @keyframes pb-fill-anim {\n                            0% { background-position: 0 0; }\n                            100% { background-position: 100px 0; }\n                        }}"
           ],
           "tagName": "style"
          },
          " "
         ],
         "tagName": "div"
        }
       ],
       "tagName": "div"
      },
      "text/html": [
       "<script>\n",
       "              (function () {\n",
       "                  var root = document.getElementById('a0bf4d35-30a6-4acc-bc0a-d17ca9f4e152');\n",
       "                  var text = root.getElementsByClassName('pb-text')[0];\n",
       "                  var fill = root.getElementsByClassName('pb-fill')[0];\n",
       "\n",
       "                  text.innerHTML = 'Build finished in 0:00:01.';\n",
       "                  \n",
       "            fill.style.width = '100%';\n",
       "            fill.style.animation = 'pb-fill-anim 2s linear infinite';\n",
       "            fill.style.backgroundSize = '100px 100%';\n",
       "            fill.style.backgroundImage = 'repeating-linear-gradient(' +\n",
       "                '90deg, #bdd2e6, #edf2f8 40%, #bdd2e6 80%, #bdd2e6)';\n",
       "        \n",
       "                  \n",
       "                fill.style.animation = 'none';\n",
       "                fill.style.backgroundImage = 'none';\n",
       "            \n",
       "              })();\n",
       "        </script>"
      ]
     },
     "metadata": {},
     "output_type": "display_data"
    },
    {
     "data": {
      "application/vdom.v1+json": {
       "attributes": {},
       "tagName": "div"
      },
      "text/html": [
       "\n",
       "                <script>\n",
       "                    if (Jupyter.version.split(\".\")[0] < 5) {\n",
       "                        var pb = document.getElementById(\"778d4bf2-3fda-4ccc-9111-cdb72b4cb450\");\n",
       "                        var text = document.createTextNode(\n",
       "                            \"HMTL progress bar requires Jupyter Notebook >= \" +\n",
       "                            \"5.0 or Jupyter Lab. Alternatively, you can use \" +\n",
       "                            \"TerminalProgressBar().\");\n",
       "                        pb.parentNode.insertBefore(text, pb);\n",
       "                    }\n",
       "                </script>\n",
       "                <div id=\"778d4bf2-3fda-4ccc-9111-cdb72b4cb450\" style=\"\n",
       "                    width: 100%;\n",
       "                    border: 1px solid #cfcfcf;\n",
       "                    border-radius: 4px;\n",
       "                    text-align: center;\n",
       "                    position: relative;\">\n",
       "                  <div class=\"pb-text\" style=\"\n",
       "                      position: absolute;\n",
       "                      width: 100%;\">\n",
       "                    0%\n",
       "                  </div>\n",
       "                  <div class=\"pb-fill\" style=\"\n",
       "                      background-color: #bdd2e6;\n",
       "                      width: 0%;\">\n",
       "                    <style type=\"text/css\" scoped=\"scoped\">\n",
       "                        @keyframes pb-fill-anim {\n",
       "                            0% { background-position: 0 0; }\n",
       "                            100% { background-position: 100px 0; }\n",
       "                        }\n",
       "                    </style>\n",
       "                    &nbsp;\n",
       "                  </div>\n",
       "                </div>"
      ],
      "text/plain": [
       "HtmlProgressBar cannot be displayed. Please use the TerminalProgressBar. It can be enabled with `nengo.rc['progress']['progress_bar'] = 'nengo.utils.progress.TerminalProgressBar'`."
      ]
     },
     "metadata": {},
     "output_type": "display_data"
    },
    {
     "data": {
      "application/vdom.v1+json": {
       "attributes": {
        "id": "7a4fe64d-a2e2-448b-8ed5-e2ad93b6055a",
        "style": {
         "border": "1px solid #cfcfcf",
         "borderRadius": "4px",
         "boxSizing": "border-box",
         "position": "relative",
         "textAlign": "center",
         "width": "100%"
        }
       },
       "children": [
        {
         "attributes": {
          "class": "pb-text",
          "style": {
           "position": "absolute",
           "width": "100%"
          }
         },
         "children": [
          "Simulation finished in 0:00:02."
         ],
         "tagName": "div"
        },
        {
         "attributes": {
          "class": "pb-fill",
          "style": {
           "animation": "none",
           "backgroundColor": "#bdd2e6",
           "backgroundImage": "none",
           "transition": "width 0.1s linear",
           "width": "100%"
          }
         },
         "children": [
          {
           "attributes": {
            "scoped": "scoped",
            "type": "text/css"
           },
           "children": [
            "\n                        @keyframes pb-fill-anim {\n                            0% { background-position: 0 0; }\n                            100% { background-position: 100px 0; }\n                        }}"
           ],
           "tagName": "style"
          },
          " "
         ],
         "tagName": "div"
        }
       ],
       "tagName": "div"
      },
      "text/html": [
       "<script>\n",
       "              (function () {\n",
       "                  var root = document.getElementById('778d4bf2-3fda-4ccc-9111-cdb72b4cb450');\n",
       "                  var text = root.getElementsByClassName('pb-text')[0];\n",
       "                  var fill = root.getElementsByClassName('pb-fill')[0];\n",
       "\n",
       "                  text.innerHTML = 'Simulation finished in 0:00:02.';\n",
       "                  \n",
       "            if (100.0 > 0.) {\n",
       "                fill.style.transition = 'width 0.1s linear';\n",
       "            } else {\n",
       "                fill.style.transition = 'none';\n",
       "            }\n",
       "\n",
       "            fill.style.width = '100.0%';\n",
       "            fill.style.animation = 'none';\n",
       "            fill.style.backgroundImage = 'none'\n",
       "        \n",
       "                  \n",
       "                fill.style.animation = 'none';\n",
       "                fill.style.backgroundImage = 'none';\n",
       "            \n",
       "              })();\n",
       "        </script>"
      ]
     },
     "metadata": {},
     "output_type": "display_data"
    }
   ],
   "source": [
    "def aligned(n_neurons, radius=0.9):\n",
    "    intercepts = np.linspace(-radius, radius, n_neurons)  # even spaced from -.9 to .9\n",
    "    encoders = np.tile(\n",
    "        [[1], [-1]], (n_neurons // 2, 1)\n",
    "    )  # half care about negative, half positive\n",
    "    intercepts *= encoders[:, 0]\n",
    "    return intercepts, encoders\n",
    "\n",
    "\n",
    "intercepts, encoders = aligned(100)  # Makes evenly spaced intercepts\n",
    "\n",
    "\n",
    "def aligned2D(n_neurons, radius=0.9):\n",
    "    intercepts2D = np.linspace(-radius, radius, n_neurons)  # even spaced from -.9 to .9\n",
    "    encoders2D = np.tile(\n",
    "        [[1], [-1]], (n_neurons // 2, 1)\n",
    "    )  # half care about negative, half positive\n",
    "    intercepts2D *= encoders2D[:, 0]\n",
    "    return intercepts2D, encoders2D\n",
    "\n",
    "\n",
    "intercepts2D, encoders2D = aligned(200)  # Makes evenly spaced intercepts\n",
    "\n",
    "# Create the model object\n",
    "model = nengo.Network(label=\"Multiplication\")\n",
    "with model:\n",
    "\n",
    "    # Create a piecewise step function for input A\n",
    "    input_A = nengo.Node(Piecewise({0: -5, 1: -2, 2: 3, 3: 5, 4: -2}))\n",
    "\n",
    "    # Create a piecewise step function for input B\n",
    "    input_B = nengo.Node(Piecewise({0: -5, 1: -2, 2: 3, 3: 5, 4: -2}))\n",
    "\n",
    "    output = nengo.Node(size_in=1)\n",
    "    correct_ans = Piecewise({0: 5, 1: 1, 2: 3, 3: 7, 4: 1})\n",
    "\n",
    "    # Create 5 ensembles of leaky integrate-and-fire neurons for input A\n",
    "    A = nengo.Ensemble(\n",
    "        100,\n",
    "        dimensions=1,\n",
    "        radius=5,\n",
    "        intercepts=intercepts,\n",
    "        max_rates=Uniform(100, 100),\n",
    "        encoders=encoders,\n",
    "    )\n",
    "    A1 = nengo.Ensemble(\n",
    "        100,\n",
    "        dimensions=1,\n",
    "        radius=5,\n",
    "        intercepts=intercepts,\n",
    "        max_rates=Uniform(100, 100),\n",
    "        encoders=encoders,\n",
    "    )\n",
    "    A2 = nengo.Ensemble(\n",
    "        100,\n",
    "        dimensions=1,\n",
    "        radius=5,\n",
    "        intercepts=intercepts,\n",
    "        max_rates=Uniform(100, 100),\n",
    "        encoders=encoders,\n",
    "    )\n",
    "\n",
    "    # Create 5 ensembles of leaky integrate-and-fire neurons for input B\n",
    "    B = nengo.Ensemble(\n",
    "        100,\n",
    "        dimensions=1,\n",
    "        radius=5,\n",
    "        intercepts=intercepts,\n",
    "        max_rates=Uniform(100, 100),\n",
    "        encoders=encoders,\n",
    "    )\n",
    "    B1 = nengo.Ensemble(\n",
    "        100,\n",
    "        dimensions=1,\n",
    "        radius=5,\n",
    "        intercepts=intercepts,\n",
    "        max_rates=Uniform(100, 100),\n",
    "        encoders=encoders,\n",
    "    )\n",
    "    B2 = nengo.Ensemble(\n",
    "        100,\n",
    "        dimensions=1,\n",
    "        radius=5,\n",
    "        intercepts=intercepts,\n",
    "        max_rates=Uniform(100, 100),\n",
    "        encoders=encoders,\n",
    "    )\n",
    "\n",
    "    # Connect the input nodes to the appropriate ensembles\n",
    "    nengo.Connection(input_A, A)\n",
    "    nengo.Connection(input_B, B)\n",
    "\n",
    "    # Connect input ensembles A and B to the 2D combined ensemble\n",
    "    combined = nengo.Ensemble(\n",
    "        200,\n",
    "        dimensions=2,\n",
    "        radius=5,\n",
    "        intercepts=intercepts2D,\n",
    "        max_rates=Uniform(100, 100),\n",
    "    )\n",
    "\n",
    "    # Define functions for computations\n",
    "    def relu(x):\n",
    "        return max(0.0, x)\n",
    "\n",
    "    def minus(x):\n",
    "        return -1 * x\n",
    "\n",
    "    def absolute(x):\n",
    "        return abs(x)\n",
    "\n",
    "    def funct(x):\n",
    "        return 2 * x - 5\n",
    "\n",
    "    def norm(x):\n",
    "        return nengo.utils.numpy.norm(x)\n",
    "\n",
    "    # Connect the combined ensemble to the output ensemble\n",
    "    nengo.Connection(A, A1, function=relu)\n",
    "    nengo.Connection(A1, A2, function=minus)\n",
    "    nengo.Connection(B, B1, function=absolute)\n",
    "    nengo.Connection(B1, B2, function=funct)\n",
    "\n",
    "    # Combine the outputs of A2 and B2\n",
    "    nengo.Connection(A2, combined[0])\n",
    "    nengo.Connection(B2, combined[1])\n",
    "\n",
    "    # Connect the combined ensemble to the output node with normalization\n",
    "    nengo.Connection(combined, output, function=norm)\n",
    "\n",
    "    # Probes\n",
    "    input_probe = nengo.Probe(input_A)\n",
    "    A_probe = nengo.Probe(A, synapse=0.02)\n",
    "    A1_probe = nengo.Probe(A1, synapse=0.05)\n",
    "    A2_probe = nengo.Probe(A2, synapse=0.01)\n",
    "    B1_probe = nengo.Probe(B1, synapse=0.05)\n",
    "    B2_probe = nengo.Probe(B2, synapse=0.05)\n",
    "    output_probe = nengo.Probe(output, synapse=0.03)\n",
    "\n",
    "\n",
    "# Create the simulator\n",
    "with nengo.Simulator(model) as sim:\n",
    "    # Run it for 5 seconds\n",
    "    sim.run(5)"
   ]
  },
  {
   "cell_type": "code",
   "execution_count": 88,
   "metadata": {},
   "outputs": [
    {
     "data": {
      "text/plain": [
       "(-10.1, 10.1)"
      ]
     },
     "execution_count": 88,
     "metadata": {},
     "output_type": "execute_result"
    },
    {
     "data": {
      "image/png": "[encoded data removed]",
      "text/plain": [
       "<Figure size 640x480 with 1 Axes>"
      ]
     },
     "metadata": {},
     "output_type": "display_data"
    }
   ],
   "source": [
    "# Plot the input signals and decoded ensemble values\n",
    "plt.figure()\n",
    "# plt.plot(sim.trange(), sim.data[input_probe], label=\"Input\")\n",
    "plt.plot(sim.trange(), sim.data[A_probe], label=\"Decoded A Probe\")\n",
    "plt.plot(sim.trange(), sim.data[output_probe], label=\"Decoded Output\")\n",
    "# plt.plot(\n",
    "#    sim.trange(), correct_ans.run(sim.time, dt=sim.dt), c=\"k\", label=\"Correct Answer\"\n",
    "# )\n",
    "plt.legend(loc=\"best\")\n",
    "plt.ylim(-10.1, 10.1)"
   ]
  }
 ],
 "metadata": {
  "kernelspec": {
   "display_name": "495venv",
   "language": "python",
   "name": "python3"
  },
  "language_info": {
   "codemirror_mode": {
    "name": "ipython",
    "version": 3
   },
   "file_extension": ".py",
   "mimetype": "text/x-python",
   "name": "python",
   "nbconvert_exporter": "python",
   "pygments_lexer": "ipython3",
   "version": "3.10.11"
  }
 },
 "nbformat": 4,
 "nbformat_minor": 2
}
